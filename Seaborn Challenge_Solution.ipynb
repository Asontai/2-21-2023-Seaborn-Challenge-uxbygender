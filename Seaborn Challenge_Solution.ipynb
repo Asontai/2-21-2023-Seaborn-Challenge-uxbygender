{
 "cells": [
  {
   "cell_type": "markdown",
   "id": "55530dab",
   "metadata": {},
   "source": [
    "Task 1\n",
    "In a new jupyter notebook import:\n",
    "\n",
    "pandas,\n",
    "matplotlib.pyplot\n",
    "seaborn\n",
    "** You will need to install Seaborn if you haven't used it prior. **"
   ]
  },
  {
   "cell_type": "code",
   "execution_count": 31,
   "id": "1a0785c8",
   "metadata": {},
   "outputs": [],
   "source": [
    "import pandas as pd\n",
    "import matplotlib.pyplot as plt\n",
    "import seaborn as sns"
   ]
  },
  {
   "cell_type": "markdown",
   "id": "ba9285c8",
   "metadata": {},
   "source": [
    "Task 2\n",
    "Download ux_gender_data.csv from github\n",
    "\n",
    "https://github.com/nerdygirlcodes/interactive-data/blob/main/Challenges/ux_gender_data.csv"
   ]
  },
  {
   "cell_type": "markdown",
   "id": "1e7b9413",
   "metadata": {},
   "source": [
    "Task 3\n",
    "Using pandas.read_csv() - convert the file to a DataFrame object\n",
    "\n",
    "Convert the data to Tidy Data"
   ]
  },
  {
   "cell_type": "code",
   "execution_count": 32,
   "id": "4cb2bb63",
   "metadata": {},
   "outputs": [],
   "source": [
    "# read the csv data\n",
    "ux_data_raw = pd.read_csv('ux_gender_data.csv')"
   ]
  },
  {
   "cell_type": "code",
   "execution_count": 33,
   "id": "934fbdc2",
   "metadata": {},
   "outputs": [
    {
     "data": {
      "text/html": [
       "<div>\n",
       "<style scoped>\n",
       "    .dataframe tbody tr th:only-of-type {\n",
       "        vertical-align: middle;\n",
       "    }\n",
       "\n",
       "    .dataframe tbody tr th {\n",
       "        vertical-align: top;\n",
       "    }\n",
       "\n",
       "    .dataframe thead th {\n",
       "        text-align: right;\n",
       "    }\n",
       "</style>\n",
       "<table border=\"1\" class=\"dataframe\">\n",
       "  <thead>\n",
       "    <tr style=\"text-align: right;\">\n",
       "      <th></th>\n",
       "      <th>year</th>\n",
       "      <th>male</th>\n",
       "      <th>female</th>\n",
       "    </tr>\n",
       "  </thead>\n",
       "  <tbody>\n",
       "    <tr>\n",
       "      <th>0</th>\n",
       "      <td>2010</td>\n",
       "      <td>0.6188</td>\n",
       "      <td>0.3812</td>\n",
       "    </tr>\n",
       "    <tr>\n",
       "      <th>1</th>\n",
       "      <td>2011</td>\n",
       "      <td>0.6212</td>\n",
       "      <td>0.3788</td>\n",
       "    </tr>\n",
       "    <tr>\n",
       "      <th>2</th>\n",
       "      <td>2012</td>\n",
       "      <td>0.6135</td>\n",
       "      <td>0.3865</td>\n",
       "    </tr>\n",
       "    <tr>\n",
       "      <th>3</th>\n",
       "      <td>2013</td>\n",
       "      <td>0.6367</td>\n",
       "      <td>0.3633</td>\n",
       "    </tr>\n",
       "    <tr>\n",
       "      <th>4</th>\n",
       "      <td>2014</td>\n",
       "      <td>0.6160</td>\n",
       "      <td>0.3840</td>\n",
       "    </tr>\n",
       "    <tr>\n",
       "      <th>5</th>\n",
       "      <td>2015</td>\n",
       "      <td>0.6231</td>\n",
       "      <td>0.3769</td>\n",
       "    </tr>\n",
       "    <tr>\n",
       "      <th>6</th>\n",
       "      <td>2016</td>\n",
       "      <td>0.6125</td>\n",
       "      <td>0.3875</td>\n",
       "    </tr>\n",
       "    <tr>\n",
       "      <th>7</th>\n",
       "      <td>2017</td>\n",
       "      <td>0.6032</td>\n",
       "      <td>0.3968</td>\n",
       "    </tr>\n",
       "    <tr>\n",
       "      <th>8</th>\n",
       "      <td>2018</td>\n",
       "      <td>0.6243</td>\n",
       "      <td>0.3757</td>\n",
       "    </tr>\n",
       "    <tr>\n",
       "      <th>9</th>\n",
       "      <td>2019</td>\n",
       "      <td>0.5938</td>\n",
       "      <td>0.4062</td>\n",
       "    </tr>\n",
       "    <tr>\n",
       "      <th>10</th>\n",
       "      <td>2021</td>\n",
       "      <td>0.5957</td>\n",
       "      <td>0.4043</td>\n",
       "    </tr>\n",
       "  </tbody>\n",
       "</table>\n",
       "</div>"
      ],
      "text/plain": [
       "    year    male  female\n",
       "0   2010  0.6188  0.3812\n",
       "1   2011  0.6212  0.3788\n",
       "2   2012  0.6135  0.3865\n",
       "3   2013  0.6367  0.3633\n",
       "4   2014  0.6160  0.3840\n",
       "5   2015  0.6231  0.3769\n",
       "6   2016  0.6125  0.3875\n",
       "7   2017  0.6032  0.3968\n",
       "8   2018  0.6243  0.3757\n",
       "9   2019  0.5938  0.4062\n",
       "10  2021  0.5957  0.4043"
      ]
     },
     "execution_count": 33,
     "metadata": {},
     "output_type": "execute_result"
    }
   ],
   "source": [
    "ux_data_raw "
   ]
  },
  {
   "cell_type": "code",
   "execution_count": 34,
   "id": "415c49cc",
   "metadata": {},
   "outputs": [],
   "source": [
    "# pivot and clean the data into tidy data standards using 'pandas melt()'\n",
    "ux_data = pd.melt(\n",
    "    ux_data_raw, # dataframe being pivoted\n",
    "    id_vars='year',  # column to be used as main observation variable\n",
    "    value_vars=['male', 'female'], # column(s) to be pivioted out\n",
    "    var_name='gender', # name of new pivoted column\n",
    "    value_name='percent', # name of new value column\n",
    ")"
   ]
  },
  {
   "cell_type": "code",
   "execution_count": 35,
   "id": "5f3803d7",
   "metadata": {},
   "outputs": [],
   "source": [
    "# set the proper data types\n",
    "ux_data = ux_data.astype({\n",
    "    'year': 'category',\n",
    "    'gender': 'category',\n",
    "    'percent': 'float'\n",
    "})"
   ]
  },
  {
   "cell_type": "code",
   "execution_count": 36,
   "id": "c8c66f6e",
   "metadata": {},
   "outputs": [],
   "source": [
    "# group the data by year and gender\n",
    "yg_group = ux_data.groupby(['year', 'gender'])"
   ]
  },
  {
   "cell_type": "markdown",
   "id": "6f04dae7",
   "metadata": {},
   "source": [
    "Task 4\n",
    "In a new code cell, using Matplotlib, create and show a figure that includes one axis with a stacked horizontal bar plot of the ‘male’ and ‘female’ variables across ‘year’\n",
    "\n",
    "Label the axes 'Year' and 'Gender by %'\n",
    "Label the figure 'UX Designer by Gender % over Year'\n",
    "Have a legend"
   ]
  },
  {
   "cell_type": "code",
   "execution_count": 37,
   "id": "81e9ce38",
   "metadata": {},
   "outputs": [
    {
     "data": {
      "image/png": "[encoded data removed]",
      "text/plain": [
       "<Figure size 640x480 with 1 Axes>"
      ]
     },
     "metadata": {},
     "output_type": "display_data"
    }
   ],
   "source": [
    "# create a new \n",
    "fig_1, ax_1 = plt.subplots()\n",
    "\n",
    "# loop through the grouped data\n",
    "for idx, o in yg_group:\n",
    "    if o.gender.item() == 'male':\n",
    "        # if male, display as tab:orange and label as male\n",
    "        ax_1.barh(o.year, o.percent, left=0, label='male', color=\"tab:orange\")\n",
    "    else:\n",
    "        # if female, calculate its starting point on the bar\n",
    "        start_loc = 1 - o.percent\n",
    "        # start at the calculated offset, display as tab:blue and label as female\n",
    "        ax_1.barh(o.year, o.percent, left=start_loc, label='female', color=\"tab:blue\")\n",
    "\n",
    "# setup legend\n",
    "ax_1.legend(['female','male'])\n",
    "\n",
    "# set axes labels + title\n",
    "ax_1.set(xlabel='Total in %', ylabel='Year', title='UX Designers by Gender % over Year')\n",
    "\n",
    "# display figure\n",
    "plt.show()"
   ]
  },
  {
   "cell_type": "markdown",
   "id": "5f39e074",
   "metadata": {},
   "source": [
    "Task 5\n",
    "In a new code cell, using Seaborn, plot the same data.\n",
    "\n",
    "** We found the easiest option is to use a histogram plot, not a bar plot. **"
   ]
  },
  {
   "cell_type": "code",
   "execution_count": 38,
   "id": "4d489b12",
   "metadata": {},
   "outputs": [
    {
     "data": {
      "image/png": "[encoded data removed]",
      "text/plain": [
       "<Figure size 640x480 with 1 Axes>"
      ]
     },
     "metadata": {},
     "output_type": "display_data"
    }
   ],
   "source": [
    "# create a matplotlib figure\n",
    "fig_2, ax_2 = plt.subplots()\n",
    "\n",
    "# map the values with a histplot, labels and colors are auto set based on 'hue'\n",
    "sns.histplot(ux_data, y='year', hue='gender', weights='percent', multiple='stack')\n",
    "\n",
    "# set axes labels + title\n",
    "ax_2.set(xlabel='Total in %', ylabel='Year', title='UX Designers by Gender % over Year')\n",
    "\n",
    "# display figure\n",
    "plt.show()"
   ]
  },
  {
   "cell_type": "markdown",
   "id": "da86de19",
   "metadata": {},
   "source": [
    "In a new markdown cell, describe the similarities and differences you noticed between using matplotlib and seaborn to map this data. What do you think is the benefit of using seaborn over matplotlib?\n",
    "Similarities:\n",
    "\n",
    "Both libraries create a bar chart or histogram to visualize data and provide customized the labels, title, and other features of the plot. Also, they can plot multiple data sets on the same chart, with different colors or labels.\n",
    "Both of them create visually appealing and informative plots.\n",
    "\n",
    "Differences:\n",
    "\n",
    " Matplotlib created a horizontal bar chart and Seaborn created a stacked histogram. The Seaborn implementation requires fewer lines of code and handles the stacking of bars automatically, while the Matplotlib implementation requires explicitly calculating the starting point of the bars for each group. The Seaborn implementation also automatically sets colors and labels based on the \"hue\" variable, which simplifies the code even further.\n",
    "\n",
    "The benefit of using Seaborn over Matplotlib is that it offers a high-level interface that can simplify the creation of complex visualizations. Seaborn automates several aspects of data manipulation and visualization, making it easier to create specific types of plots. It also provides default color palettes and labels that can make plots more visually appealing and informative with minimal customization. Matplotlib is a more flexible library, but requires more manual customization to create the desired plot.\n"
   ]
  },
  {
   "cell_type": "code",
   "execution_count": null,
   "id": "bea98adb",
   "metadata": {},
   "outputs": [],
   "source": []
  }
 ],
 "metadata": {
  "kernelspec": {
   "display_name": "Python 3 (ipykernel)",
   "language": "python",
   "name": "python3"
  },
  "language_info": {
   "codemirror_mode": {
    "name": "ipython",
    "version": 3
   },
   "file_extension": ".py",
   "mimetype": "text/x-python",
   "name": "python",
   "nbconvert_exporter": "python",
   "pygments_lexer": "ipython3",
   "version": "3.9.16"
  }
 },
 "nbformat": 4,
 "nbformat_minor": 5
}
